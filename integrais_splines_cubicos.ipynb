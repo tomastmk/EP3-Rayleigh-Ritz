{
 "cells": [
  {
   "cell_type": "code",
   "execution_count": null,
   "metadata": {},
   "outputs": [],
   "source": []
  },
  {
   "cell_type": "markdown",
   "metadata": {},
   "source": [
    "## Splines Cúbicos"
   ]
  },
  {
   "cell_type": "markdown",
   "metadata": {},
   "source": [
    "A base é dada por:\n",
    "\n",
    "$$\\begin{equation} \n",
    "    g_i(x) = \n",
    "    \\begin{cases}\n",
    "    &B\\left( \\cfrac{x-a}{h}\\right) - 4\\cdot B\\left( \\cfrac{x-a + h}{h}\\right) &\\qquad \\text{se } i=0\\\\\n",
    "    &B_1\\left( \\cfrac{x-a-h}{h}\\right)  - B_{-1}\\left( \\cfrac{x-a+h}{h}\\right) &\\qquad \\text{se } i=1\\\\\n",
    "    &B_j\\left( \\cfrac{x-a-jh}{h}\\right) &\\qquad \\text{se } 2\\leq i \\leq n-1\\\\\n",
    "    &B_n\\left( \\cfrac{x-a-nh}{h}\\right)  - B_{n+2}\\left( \\cfrac{x-a+(n+2)h}{h}\\right) &\\qquad \\text{se } i=n\\\\\n",
    "    &B_{n+1}\\left( \\cfrac{x-a-(n+1)h}{h}\\right)  - 4 \\cdot B_{n+2}\\left( \\cfrac{x-a+(n+2)h}{h}\\right) &\\qquad \\text{se } i=n+1\\\\\n",
    "    \\end{cases}\n",
    "\\end{equation}\n",
    "$$\n",
    "\n"
   ]
  },
  {
   "cell_type": "markdown",
   "metadata": {},
   "source": [
    "Reescrevendo as condições da função $B(t)$ em termos de $x$, temos:\n",
    "\n",
    "$$\\begin{equation} \n",
    "    B_j(t) = \n",
    "    \\begin{cases}\n",
    "    &0 \\qquad &\\text{se } x \\leq x_{j-2} &\\iff &t \\leq -2\\\\\n",
    "    &\\frac{1}{4}(2+t)^3 \\qquad &\\text{se } x_{j-2} < x \\leq x_{j-1} &\\iff &-2 <t \\leq -1\\\\\n",
    "    &\\frac{1}{4}[(2+t)^3 - 4(1+t)^3] \\qquad &\\text{se } x_{j-1} < x \\leq x_j &\\iff &-1 <t \\leq -0\\\\\n",
    "    &\\frac{1}{4}[(2-t)^3 - 4(1-t)^3] \\qquad &\\text{se } x_j < x \\leq x_{j+1} &\\iff &0 <t \\leq 1\\\\\n",
    "    &\\frac{1}{4}(2-t)^3 \\qquad &\\text{se } x_{j+1} < x \\leq x_{j+2} &\\iff &1 <t \\leq 2\\\\\n",
    "    &0 \\qquad &\\text{se }  x > x_{j+2} &\\iff &t > 2\n",
    "    \\end{cases}\n",
    "\\end{equation}\n",
    "    $$"
   ]
  },
  {
   "cell_type": "markdown",
   "metadata": {},
   "source": [
    "Com isso, podemos calcular os coeficientes da matriz A e os coeficientes do vetor d. Começando com o vetor d, temos:\n",
    "\n",
    "$$d_i = \\int_a^b f(x)g_i(x)dx = \\int_{x_{j-2}}^{x_{j+2}} f(x)g_i(x) dx $$ \n",
    "$$ = \\int_{x_{j-2}}^{x_{j-1}} f(x)g_i(x) dx + \\int_{x_{j-1}}^{x_{j}} f(x)g_i(x) dx + \\int_{x_{j}}^{x_{j+1}} f(x)g_i(x) dx + \\int_{x_{j+1}}^{x_{j+2}} f(x)g_i(x) dx \\textbf{TA ESTRANHO TA}$$ "
   ]
  },
  {
   "cell_type": "markdown",
   "metadata": {},
   "source": [
    "Vamos analisar caso a caso:\n",
    "\n",
    "$$d_0 = T_1 + T_2 + T_3 + T_4$$\n",
    "\n",
    "$$T_1 = \\int_{x_{j-2}}^{x_{j-1}} f(x)g_0(x) dx= \\int_{x_{j-2}}^{x_{j-1}} f(x)\\left[B\\left( \\cfrac{x-a}{h}\\right) - 4\\cdot B\\left( \\cfrac{x-a + h}{h}\\right)\\right]dx$$\n",
    "\n",
    "Como $x_{-2} = x_{-1} = 0$, neste intervalo a integral vale zero. Pelo mesmo raciocínio, como $x_0 = 0$ a integral $T_2$ também vale zero.\n",
    "\n",
    "$$T_3 = \\int_{x_{0}}^{x_{1}} f(x)g_0(x) dx= \\int_{x_{0}}^{x_{1}} f(x)\\left[B\\left( \\cfrac{x-a}{h}\\right) - 4\\cdot B\\left( \\cfrac{x-a + h}{h}\\right)\\right]dx = $$\n",
    "\n",
    "\n",
    "\n",
    "$$= \\int_{x_{0}}^{x_{1}} f(x) \\cdot\\cfrac{1}{4}\\left[\\left(2-\\cfrac{x-x_0}{h}\\right)^3 - 4\\left(1-\\cfrac{x-x_0}{h}\\right)^3 \\right]dx + \\int_{x_{0}}^{x_{1}} f(x) \\left(2-\\cfrac{x-x_{-1}}{h}\\right)^3dx$$"
   ]
  },
  {
   "cell_type": "markdown",
   "metadata": {},
   "source": []
  },
  {
   "cell_type": "markdown",
   "metadata": {},
   "source": []
  }
 ],
 "metadata": {
  "kernelspec": {
   "display_name": "Python 3",
   "language": "python",
   "name": "python3"
  },
  "language_info": {
   "codemirror_mode": {
    "name": "ipython",
    "version": 3
   },
   "file_extension": ".py",
   "mimetype": "text/x-python",
   "name": "python",
   "nbconvert_exporter": "python",
   "pygments_lexer": "ipython3",
   "version": "3.11.0"
  }
 },
 "nbformat": 4,
 "nbformat_minor": 2
}
