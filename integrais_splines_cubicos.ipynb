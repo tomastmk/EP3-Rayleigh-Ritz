{
 "cells": [
  {
   "cell_type": "code",
   "execution_count": null,
   "metadata": {},
   "outputs": [],
   "source": []
  },
  {
   "cell_type": "markdown",
   "metadata": {},
   "source": [
    "## Splines Cúbicos"
   ]
  },
  {
   "cell_type": "markdown",
   "metadata": {},
   "source": [
    "A base é dada por:\n",
    "\n",
    "$$\\begin{equation} \n",
    "    g_j(x) = \n",
    "    \\begin{cases}\n",
    "    &B_0\\left( \\cfrac{x-a}{h}\\right) - 4\\cdot B_{-1}\\left( \\cfrac{x-a + h}{h}\\right)\\ &\\qquad \\text{se } j=0\\\\\n",
    "    &B_1\\left( \\cfrac{x-a-h}{h}\\right)  - B_{-1}\\left( \\cfrac{x-a+h}{h}\\right) &\\qquad \\text{se } j=1\\\\\n",
    "    &B_i\\left( \\cfrac{x-a-ih}{h}\\right) &\\qquad \\text{se } 2\\leq j \\leq n-1\\\\\n",
    "    &B_n\\left( \\cfrac{x-a-nh}{h}\\right)  - B_{n+2}\\left( \\cfrac{x-a+(n+2)h}{h}\\right) &\\qquad \\text{se } j=n\\\\\n",
    "    &B_{n+1}\\left( \\cfrac{x-a-(n+1)h}{h}\\right)  - 4 \\cdot B_{n+2}\\left( \\cfrac{x-a+(n+2)h}{h}\\right) &\\qquad \\text{se } j=n+1\\\\\n",
    "    \\end{cases}\n",
    "\\end{equation}\n",
    "$$\n",
    "\n"
   ]
  },
  {
   "cell_type": "markdown",
   "metadata": {},
   "source": [
    "Reescrevendo as condições da função $B(t)$ em termos de $x$, temos:\n",
    "\n",
    "$$\\begin{equation} \n",
    "    B(t) = \n",
    "    \\begin{cases}\n",
    "    &0 \\qquad &\\text{se } x \\leq x_{j-2}\\\\\n",
    "    &\\frac{1}{4}(2+t)^3 \\qquad &\\text{se } x_{j-2} < x \\leq x_{j-1}\\\\\n",
    "    &\\frac{1}{4}[(2+t)^3 - 4(1+t)^3] \\qquad &\\text{se } x_{j-1} < x \\leq x_j\\\\\n",
    "    &\\frac{1}{4}[(2-t)^3 - 4(1-t)^3] \\qquad &\\text{se } x_j < x \\leq x_{j+1}\\\\\n",
    "    &\\frac{1}{4}(2-t)^3 \\qquad &\\text{se } x_{j+1} < x \\leq x_{j+2}\\\\\n",
    "    &0 \\qquad &\\text{se }  x > x_{j+2}\n",
    "    \\end{cases}\n",
    "\\end{equation}\n",
    "    $$"
   ]
  },
  {
   "cell_type": "markdown",
   "metadata": {},
   "source": [
    "Com isso, podemos calcular os coeficientes da matriz A e os coeficientes do vetor d. Começando com o vetor d, temos:\n",
    "\n",
    "$$d_i = \\int_a^b f(x)g_i(x)dx = $$\n",
    "$$ = \\int_{x_{j-2}}^{x_{j+2}} f(x)g_i(x) dx = \\int_{x_{j-2}}^{x_{j-1}} f(x)g_i(x) dx + \\int_{x_{j-1}}^{x_{j}} f(x)g_i(x) dx + \\int_{x_{j}}^{x_{j+1}} f(x)g_i(x) dx + \\int_{x_{j+1}}^{x_{j+2}} f(x)g_i(x) dx$$"
   ]
  },
  {
   "cell_type": "markdown",
   "metadata": {},
   "source": []
  }
 ],
 "metadata": {
  "language_info": {
   "name": "python"
  }
 },
 "nbformat": 4,
 "nbformat_minor": 2
}
