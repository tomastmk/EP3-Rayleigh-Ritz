{
  "cells": [
    {
      "cell_type": "markdown",
      "metadata": {
        "id": "0NnmFzk_VnCf"
      },
      "source": [
        "# COMPIII - CCM - 2º semestre de 2023\n",
        "## EP3 - Método de Rayleigh Ritz\n",
        "\n",
        "**Integrantes:**\n",
        "\n",
        "Júlia Chaves - 13694920\n",
        "\n",
        "Henrique Fukushima - 13682465\n",
        "\n",
        "Tomás Tamaki - 13686390\n",
        "\n",
        "Maria Fernanda Marins - 12733636\n",
        "\n",
        "Marina Reuter - 12505270\n"
      ]
    },
    {
      "cell_type": "markdown",
      "metadata": {
        "id": "bttmGfYBVnCh"
      },
      "source": [
        "## Relatório\n",
        "## Introdução\n",
        "No presente programa, implementamos o método de Rayleigh Ritz para aproximação de equações diferenciais. Assim, dadas funções $q(x)$, $f(x)$ e $p(x)$, construimos um sistema linear $Ac = d$, de modo a encontrar os coeficientes da aproximação $u(x)$ que satisfaça:\n",
        "\\begin{align*}\n",
        "    -(p(x)u'(x))' + q(x)u(x) = f(x) \\rightarrow p'(x)u'(x) + p(x)u\"(x) + q(x)u(x) = f(x)\n",
        "\\end{align*}\n"
      ]
    },
    {
      "cell_type": "markdown",
      "metadata": {
        "id": "OAZm6zccVnCi"
      },
      "source": [
        "## Prova Exercício 1\n",
        "Queremos provar que a solução $u(x) \\in \\mathbb{C}^2_0[a, b]$\n",
        "\n",
        "Para que a função $u(x)$ pertença ao espaço vetorial das funções com derivada segunda contínuas e que satisfazem $u(a) = u(b)  = 0$ precisamos que a função $u(x)$ satisfaça essas propriedades. Partindo da EDO, é possível isolar $u(x)$ e suas derivadas.\n",
        "\n",
        "\\begin{align*}\n",
        "    -(p(x)u'(x))' + q(x)u(x) = f(x) \\rightarrow p'(x)u'(x) + p(x)u\"(x) + q(x)u(x) = f(x)\n",
        "\\end{align*}\n",
        "\n",
        "Isolando a segunda derivada, teremos:\n",
        "\n",
        "\\begin{align*}\n",
        "    u\"(x)=\\frac{f(x)-q(x)u(x)-p(x)u'(x)}{p'(x)}\n",
        "\\end{align*}\n",
        "\n",
        "Dado que todas as funções da direita são contínuas, a segunda derivada também será contínua. Como, pelas condições de contorno $u(a)=u(b)=0$, entãi $u(x) \\in \\mathbb{C}^2_0[a, b]$.\n",
        "\n",
        "\n"
      ]
    },
    {
      "cell_type": "markdown",
      "metadata": {
        "id": "ltmaduUcVnCi"
      },
      "source": [
        "## Prova Exercício 2\n",
        "\n",
        "Queremos provar que $\\left<g, h \\right>_L$ é produto interno. Como é definido da seguinte forma:\n",
        "\n",
        "\\begin{align*}\n",
        "\\left<g, h \\right>_L = \\left<Lg, h \\right> = \\int^{b}_{a} −(p(x)g′(x))′h(x)+q(x)g(x)h(x)dx = \\int^{b}_{a} p(x)g′(x)′h'(x)+q(x)g(x)h(x)dx\n",
        "\\end{align*}\n",
        "\n",
        "É necessário provar as propriedades:\n",
        "\n",
        "1. $\\left<g, h \\right>_L = \\left<h, g \\right>$\n",
        "\n",
        "    Temos que:\n",
        "\n",
        "    \\begin{align*}\n",
        "        \\left<g, h \\right>_L = \\int^{b}_{a} p(x)g′(x)′h(x)+q(x)g(x)h(x)dx\n",
        "    \\end{align*}\n",
        "\n",
        "    Invertendo a ordem das funções:\n",
        "\n",
        "    \\begin{align*}\n",
        "        \\left<h, g \\right>_L = \\int^{b}_{a} p(x)h′(x)′g(x)+q(x)h(x)g(x)dx\n",
        "    \\end{align*}\n",
        "\n",
        "    Dado que o produto das duas funções comuta, então:\n",
        "\n",
        "    \\begin{align*}\n",
        "    \\left<g, h \\right>_L = \\left<h, g \\right>\n",
        "    \\end{align*}\n",
        "\n",
        "2. $\\left<g, h + f\\right>_L = \\left<g, h \\right> + \\left<g, f \\right>$\n",
        "\n",
        "\\begin{align*}\n",
        "\\left<g, h + f\\right>_L = \\int^{b}_{a} p(x)g'(x)(h'(x)+f'(x))+q(x)g(x)+(h(x)+f(x))dx\n",
        "    \n",
        "   $ = \\int^{b}_{a} p(x)g'(x)(h'(x))+q(x)g(x)(h(x)) + \\int^{b}_{a} p(x)g'(x)(f'(x))dx+q(x)g(x)(f(x))dx = \\left<g, h\\right>_L + \\left<g, f\\right>_L $\n",
        "\n",
        "\\end{align*}\n",
        "\n",
        "3. $\\left<cg, h \\right>_L = c\\left<g, h \\right>$, sendo c um escalar\n",
        "\n",
        "\\begin{align*}\n",
        "\\left<cg, h \\right>_L = \\int^{b}_{a} p(x)cg'(x)h'(x) + q(x)cg(x)h(x)dx\n",
        "\\left<cg, h \\right>_L = \\int^{b}_{a}c[p(x)g'(x)h'(x) + q(x)g(x)h(x)dx]\n",
        "\\left<cg, h \\right>_L = c \\int^{b}_{a} p(x)g'(x)h'(x)+q(x)g(x)h(x)dx = c\\left<g, h \\right>_L\n",
        "\\end{align*}\n",
        "\n",
        "4. $\\left<g, g \\right>_L \\geq 0$\n",
        "\n",
        "\\begin{align*}\n",
        "\\left<g, g\\right>_L = \\int_{a}^{b} p(x)g'^2(x)+q(x)g^2(x)dx\n",
        "\\end{align*}\n",
        "\n",
        "Como $p(x)$ é positiva e $q(x) \\geq 0$, então o integrando é sempre maior ou igual a 0. Assim, $\\left<g, g \\right>_L \\geq 0$ e, por consequência, $\\left<g, g \\right>_L$ é um produto interno.\n",
        "\n"
      ]
    },
    {
      "cell_type": "markdown",
      "metadata": {
        "id": "bmdDFDXwVnCj"
      },
      "source": [
        "## Prova Exercício 3\n",
        "\n",
        "Queremos provar que $B(t)$ é um spline cúbico na reta relativamente a partição formada pelos números inteiros. Para isso, a cada sub-intervalo $[i, i+1]$ em que $i \\in \\mathbb{Z}$, $B(t)$ deve ser composto por polinômios cúbicos.\n",
        "Vemos que para qualquer intervalo em que $i \\geq 2$ ou $i \\leq -2$, $B(t) é o polinômio nulo. Para os outros intervalos $B(t)$ é composto por polinômios cúbicos (todos possuem apenas termos com $t^n$, com $n \\leq 3$). Logo, $B(t)$ é um spline cúbico na reta relativo à partição formada pelos números inteiros."
      ]
    },
    {
      "cell_type": "markdown",
      "metadata": {
        "id": "SlaUYbwkVnCj"
      },
      "source": [
        "## Prova Exercício 4\n",
        "\n",
        "Para que $B_j(x)=B\\left(\\frac{x-a-jh}{h}\\right)$ forme uma base, precisamos que as funções sejam LI e que gerem o espaço. Para provar que as funções são LI, vamos supor que uma das funções $B_i(x)$ pode ser escrita como uma combinação linear das outras funções:\n",
        "\n",
        "\\begin{align*}\n",
        "B_i(x) = \\sum_{j \\neq i} c_jB_j(x)\n",
        "\\end{align*}\n",
        "\n",
        "Isso deve ser valido para todo $x$. Considerando a região onde $\\frac{x-a-hi}{h}=\\frac{x-a}{b-a}(n+1)-i$ é maior que $2$ e menor que $-2$. Nesse caso o lado esquerdo se anula, assim como todas as funções $B_j(x)$ além de 4 valores de $j$ para o qual $\\frac{x-a}{b-a}(n+1)-j$ está no intervalo $[-2, 2]$ (já que o argumento da função $B_{j+1}$ é uma unidade menor que para $B_j$).Portanto devemos ter que os coeficientes dessas funções\n",
        "devem ser $0$. Assim, considerando os valores de $x$ para qual o argumento de $B_i$ está logo acima $2$ ou logo a baixo de $-2$ devemos ter que $c_j = 0$ para $j \\in [i − 4, i + 4]$. Agora, considerando a região para o qual o argumento de $B_i$ seja $0$, devemos ter $B_i = 1$. Porém, todas as funções que não possuem componente nula se anulam para esse valor do argumento. Portanto é impossível de escrever $B_i$ como combinação linear dos outros B − splines.\n",
        "\n",
        "Agora, provando que o conjunto gera o espaço. Um spline cúbico genérico pode possuir qualquer polinômio de terceiro grau em um dos sub-intervalos, portanto, é necessário provar que a combinação linear dos B-splines gera qualquer polinômio em qualquer intervalo. Para qualquer intervalo, sempre existirá quatro B-splines que estarão no intervalo em que a função não se anula. Escrevendo em função da variável $t$ para o B-spline que possui $0 \\leq t \\leq 1$, a combinação linear resultante é:\n",
        "\n",
        "\\begin{align*}\n",
        "    \\sum{j}c_jB_j(x) = c_{i-2}\\frac{1}{4}t^3 + c_{i-1}\\frac{1}{4}[(t+1)^3-4t^3] + c_i\\frac{1}{4}[(2-t)^3-4(1-t)^3] + c_{i+1}\\frac{1}{4}(1-t)^3 = \\frac{1}{4}\\left[(c_{i-2}-3c_{i-1}-5{c_i}-c_{i+1})t^3+(3c_{i-1}+3c_{i+1})t^2+(3c_{i-1}+6c_i-3c_{i+1})t+(c_{i-1}+4c_i+c_{i+1})\\right]\n",
        "\\end{align*}\n",
        "\n",
        "Com isso, vemos que os vetores (1,-3,-5,-1), (0,3,0,3),(0,3,6,-3),(0,1,4,1) formam uma base. Logo, os B-splines geram o espaço."
      ]
    },
    {
      "cell_type": "markdown",
      "metadata": {
        "id": "wp0-nsqDVnCj"
      },
      "source": [
        "## Prova Exercício 5\n",
        "\n",
        "Primeiramente, provando que as funções são LI. Caso não sejam, isso significaria que a existência de uma combinação linear de $g_j$, para $j \\neq i$ que resultaria em $g_i$. Como $g_i$ é uma combinação linear de B-splines, isso seria equivalente a escrever uma combinação linear de B-splines $B_j$, o que geraria outra combinação linear de splines que contém $B_i$. Assim, como B-splines são LI, isso é impossível. Logo, $g_i$ é LI.\n",
        "Devemos provar também que é uma base. Inicialmente, vemos que todas as funções $g$ se anulam para $x = a$, já que para $i \\leq 1$ temos $g_0(a)=B(0)-4B(1)=0$, $g_1 = B(-1)-B(1)=0$ e $g_i=0$ para $i > 1$, já que os B-splines se anulam. Para $x=b$, $g_{n+1}=B(0)-4(-1)=0$, $g_n=B(1)-B(-1)=0$ e $g_i=0$ para $i < n$, já que os B-splines se anulam. Vamos escrever uma combinação linear de $g_i$:\n",
        "\n",
        "\\begin{align*}\n",
        "    f(x)= \\sum_{j}g_j = c_0(B_0 - 4B_{-1})+c_1(B_1-B_{-1})+ \\sum_{i=2}^{n-1}c_iB_i+c_n(B_n-B_{n+1})+c_{n+1}(B_{n+1} - 4(B_{n+2})) = \\sum_{i=0}^{n+1}c_iB_i-B_{-1}(4c_0+c_1)-B_{n+2}(c_n+4c_{n+1})\n",
        "\\end{align*}\n",
        "\n",
        "\n",
        "Como a somatória gera o espaço dos polinômios cúbicos, $B_{-1}$ e $B_{n-2}$ são LI dos outros B-splines, vemos que a combinação linear gera todos os polinômios de terceiro grau em qualquer partição com a condição que os polinômios se anulam para $x=a$ e $x=b$. Logo, $g_i$ forma uma base para $V$."
      ]
    },
    {
      "cell_type": "markdown",
      "metadata": {
        "id": "VYMAdlY7VnCj"
      },
      "source": [
        "# Relatório\n",
        "## Quadratura de Gauss em intervalos arbitrários\n",
        "Uma integral $\\int_a^b f(x)dx$ sobre um intervalo arbitrário [a,b] pode ser transformada em uma integral sobre [-1, 1] ao aplicar uma mudança de variável:\n",
        "\n",
        "$t = \\frac{2x - a - a}{b - a} \\leftrightarrow x = \\frac{1}{2} [(b-a)t + (a+b)]$\n",
        "\n",
        "Note que, $dx = \\frac{b-a}{2}dt$, com isso, a integral se torna:\n",
        "\n",
        "$\\int_a^b f(x)dx = \\int_{-1}^1 f(\\frac{(b-a)t + (b+a)}{2})\\frac{(b-a)}{2} dt$\n"
      ]
    },
    {
      "cell_type": "markdown",
      "metadata": {
        "id": "EtLY92aXVnCk"
      },
      "source": [
        "## 1. Splines Lineares\n",
        "### 1.1. Função Main\n",
        "Na função `main`, primeiramente, define-se uma entrada, que consiste num vetor com a os extremos do intervalo e o número de partições na forma $[a, b, n]$, tal que a e b são os extremos do intervalo, $a < b$ e n o número de subintervalos.\n",
        "Definem-se, então:\n",
        "- $h = \\frac{(b-a)}{n}$, o comprimento dos subintervalos;\n",
        "- $x_i = a + ih, i = 1, 2, 3 ... n$, a posição de cada partição. Armazenamos os valores de $x_i$ num vetor X.\n",
        "\n",
        "Definimos, então, duas matrizes A e D, inicialmente vazias, que recebem a solução das funções `matrix_A` e `matrix_D`, respectivamente , que resolve encontra os coeficientes para ambas, conforme a definição do enunciado. Essas matrizes são usadas de input para a função `system_solve` que define o vetor `c`, com base na resolução do sistema linear $Ac = D$.\n",
        "\n",
        "Usando os valores de c, calculamos $\\bar{v}(x)$, por meio da função `v_barra`, que toma como parâmetros $x_i, i, c_i, c_{i+1}$\n",
        "\n"
      ]
    },
    {
      "cell_type": "code",
      "execution_count": null,
      "metadata": {
        "id": "k7bb8PFMVnCk"
      },
      "outputs": [],
      "source": [
        "def main():\n",
        "\n",
        "    global N\n",
        "    global X\n",
        "    global H\n",
        "\n",
        "    entrada = [0,1,10]\n",
        "    #list(map(int,input('Digite a, b e n no formato \"a,b,n\" \\n\\n').split(\",\")))\n",
        "\n",
        "\n",
        "    a = entrada[0]\n",
        "    b = entrada[1]\n",
        "    N = entrada[2]\n",
        "\n",
        "\n",
        "    H = (b-a)/(N)\n",
        "    X = [ a+i*H for i in range(N+1) ]\n",
        "\n",
        "\n",
        "    A = matrix_A()\n",
        "    D = matrix_D()\n",
        "\n",
        "    c = system_solve(A,D,1)\n",
        "\n",
        "    c.insert(0,0)\n",
        "    c.append(0)\n",
        "\n",
        "\n",
        "    print(\"\\nA = \",A)\n",
        "    print(\"\\nD = \",D)\n",
        "    print(\"\\nc = \",c,\"\\n\")\n",
        "\n",
        "    v = []\n",
        "\n",
        "\n",
        "    for i in range(len(X)-2):\n",
        "\n",
        "        v.append(v_barra(X[i],i,c[i],c[i+1]))\n",
        "\n",
        "    v.append(0)\n",
        "\n",
        "    C = list(map(lambda a: a,c))\n",
        "\n",
        "    eixo_x = np.linspace(0,1,10)\n",
        "    eixo_y = list(map(lambda a: 0.5*a*(1-a),eixo_x))#list(map(lambda a: np.sin(np.pi*a),eixo_x))\n",
        "    plt.plot(eixo_x,eixo_y)\n",
        "\n",
        "    plt.scatter(eixo_x,v,color=\"g\")\n",
        "\n",
        "    plt.scatter(X,C,color=\"r\")\n",
        "\n",
        "\n",
        "\n",
        "    plt.show()\n"
      ]
    },
    {
      "cell_type": "markdown",
      "metadata": {
        "id": "AqTW0ZbHVnCl"
      },
      "source": [
        "### 1.2. Função matrix_D\n",
        "\n",
        "Precisamos resolver o sistema normal $Ac = d$. Para calcular os coeficientes  $d_i$ do vetor $d$, vamos utilizar a seguinte integral:\n",
        "\n",
        "$d_i = \\int_{x_i-1}^{x_i} f(x)g_i(x)dx + \\int_{x_i}^{x_i+1}f(x)g_i(x)dx$\n",
        "\n",
        "Chamaremos a primeira de $Q_1$ e a segunda de $Q_2$, de tal forma que\n",
        "\n",
        "$d_i = Q_1 + Q_2$\n",
        "\n",
        "Para resolver essas integrais, devemos utilizar a Fórmula de Gauss com 1 ponto (ponto médio), que nos diz que:\n",
        "\n",
        "$\\int_{-1}^{1} f(x)dx ~ 2 \\cdot f(0)$\n",
        "\n",
        "Primeiramente, calculemos $Q_1$:\n",
        "\n",
        "$Q_1 = \\int_{x_i-1}^{x_i} f(x)g_i(x)dx = \\int_{x_i-1}^{x_i} f(x) \\cdot \\frac{x - x_{i-1}}{h} dx = \\frac{1}{h} \\int_{x_i-1}^{x_i} f(x) \\cdot (x - x_{i-1}) dx $\n",
        "\n",
        "Aplicando mudança de variável:\n",
        "\n",
        "$Q_1 = (\\frac{1}{h} \\int_{-1}^{1})( \\frac{(x_i - x_{i-1})t + (x_i + x_{i-1})}{2}) (\\frac{(x_i - x_{i-1})t + (x_i + x_{i-1})}{2} -x_{i-1}) (\\frac{(x_i - x_{i-1})}{2})dt$\n",
        "\n",
        "$ = \\frac{(x_i - x_{i-1})}{2h} \\int_{-1}^{1} f(\\frac{(x_i - x_{i-1})t + (x_i + x_{i-1})}{2}) (\\frac{(x_i - x_{i-1})t + x_i -x_{i-1}}{2})dt$\n",
        "\n",
        "Seja $\\rho(t) = f(\\frac{(x_i - x_{i-1})t + (x_i + x_{i-1})}{2}) (\\frac{(x_i - x_{i-1})t + x_i -x_{i-1}}{2})$, assim temos:\n",
        "\n",
        "$ = = \\frac{(x_i - x_{i-1})}{2h} \\int_{-1}^{1} \\rho(t)dt = \\frac{(x_i - x_{i-1})}{2h} \\cdot 2\\rho(0) = \\frac{(x_i - x_{i-1})}{h} f(\\frac{(x_i + x_{i-1})}{2}) \\frac{(x_i - x_{i-1})}{2}$\n",
        "\n",
        "Finalmente, temos:\n",
        "\n",
        "$Q_1 = \\frac{(x_i - x_{i-1})^{2}}{2h} \\cdot f(\\frac{(x_i + x_{i-1})}{2}) \\leftrightarrow \\frac{h}{2} f(\\frac{(x_i + x_{i-1})}{2})$\n",
        "\n",
        "Analogamente, repetindo o processo para $Q_2$, obtemos:\n",
        "\n",
        "$Q_2 = \\frac{(x_{i+1} - x_{i})^{2}}{2h} \\cdot f(\\frac{(x_{i+1} - x_{i})}{2}) \\leftrightarrow \\frac{h}{2} f(\\frac{(x_{i+1} - x_{i})}{2})$\n",
        "\n",
        "\n",
        "A função `matrix_D` encontra, portanto, os coeficientes $d_i$, aplicando $d_i = Q_1 + Q_2$, de modo que:\n",
        "\n",
        "$d_i$ = $\\frac{h}{2} \\cdot ( f(\\frac{x_i + x_{i-1}}{2} )$ +  $f(\\frac{x_i + x_{i+1}}{2} )$)\n",
        "\n",
        "Assim, primeiramente, x, n e h, recebem os valores iniciais X, N, H, definidos na `main`.\n",
        "\n",
        "Então, para cada $i \\in [0, n-1]$ são usados para o cálculo de $Q_1$ e $Q_2$, que,somadas, dão $d_i$.\n",
        "\n",
        "Cada $d_i$ é indexado na iésima posição do vetor $D$, o qual a função retorna.\n",
        "\n",
        "\n",
        "\n"
      ]
    },
    {
      "cell_type": "code",
      "execution_count": null,
      "metadata": {
        "id": "QOo931dOVnCm"
      },
      "outputs": [],
      "source": [
        "def matrix_D():\n",
        "\n",
        "    x = X\n",
        "    n = N\n",
        "    h = H\n",
        "\n",
        "    D = []\n",
        "\n",
        "\n",
        "    for i in range(1,n):\n",
        "\n",
        "        Q1 = (h/2)*(  f( (x[i]+x[i-1]) /2 )  )\n",
        "        Q2 = (h/2)*(  f( (x[i]+x[i+1]) /2 )  )\n",
        "\n",
        "        D.append( Q1+Q2 )\n",
        "\n",
        "    return D"
      ]
    },
    {
      "cell_type": "markdown",
      "metadata": {
        "id": "7oFIcTUiVnCm"
      },
      "source": [
        "### 1.2. Função matrix_A\n",
        "\n",
        "Para encontrar os coeficientes da matriz $A$, aplicamos a seguinte equação:\n",
        "\n",
        "$a_{ii} = \\int_{x_{i-1}}^{x_i} [p(x)(g'_i(x))^2 + q(x)(g_i(x))^2]dx + \\int_{x_i}^{x_{i+1}}  [p(x)(g'_i(x))^2 + q(x)(g_i(x))^2]dx$\n",
        "\n",
        "Note que ambas as integrais são idênticas, exceto pelo intervalo de integração e, ainda, que a podem ser representadas como soma de integrais, dada a linearidade do operador. Portanto, calculemos as duas integrais $Q_3$ e $Q_4$ em um intervalo $[a, b]$ arbitrário:\n",
        "\n",
        "$Q_3 =  \\int_{a}^{b} p(x)(g'_i(x))^2 dx = \\frac{1}{h^2} \\int_{a}^{b} p(x) dx$\n",
        "\n",
        "Aplicando a substituição de variáveis:\n",
        "\n",
        "$Q_3 = \\frac{1}{h^2} \\int_{a}^{b} p(\\frac { (b-a)t + (b+a)}{2}) \\frac{(b-a)}{2h^2} dt = \\frac{(b-a)}{2h^2} \\int_{-1}^{1} p(t) dt $\n",
        "\n",
        "Utilizando a aproximação de Gauss para um ponto:\n",
        "\n",
        "$Q_3 ~ \\frac{(b-a)}{2h^2} \\cdot 2p(0) = \\frac{(b-a)}{h^2} \\cdot p(\\frac{(b+a)}{2})$\n",
        "\n",
        "Portanto,\n",
        "\n",
        "$Q_3 = \\frac{1}{h} \\cdot p\\frac{(b+a)}{2}$\n",
        "\n",
        "Agora, calculemos $Q_4$:\n",
        "\n",
        "$Q_4  = \\int_{a}^{b} q(x)(g_i(x))^2 dx = \\frac{1}{h^2} \\int_{a}^{b} q(x) (x-a)^2 dx$\n",
        "\n",
        "$ = \\frac{1}{h^2} \\int_{-1}^{1} q(\\frac{(b-a)t + (b+a)}{2}) \\frac{((b-a)t + (b -a)^2)}{4} \\cdot \\frac{(b-a)}{2}dt$\n",
        "\n",
        "$ = \\frac {(b-a)}{8h^2} \\int_{-1}^{1} q(\\frac{(b-a)t + (b+a)}{2}) ((b-a)t + (b -a)^2) dt $\n",
        "\n",
        "$ = \\frac {(b-a)}{8h^2} \\int_{-1}^{1} \\eta(t) dt$\n",
        "\n",
        "Fazendo a aproximação,\n",
        "\n",
        "$ Q_4 = \\frac{(b-a)}{8h^2} \\cdot 2 \\eta(0) = \\frac{(b-a)}{4h^2} \\cdot q(\\frac {b+a}{2}) (b-a)^2 = \\frac{(b-a)^3}{4h^2} \\cdot q(\\frac {b+a}{2})$\n",
        "\n",
        "Logo,\n",
        "\n",
        "$Q_4 = \\frac{h}{4} \\cdot q(\\frac {b+a}{2})$\n",
        "\n",
        "Dessa maneira, para determinar os coeficientes da diagonal principal da matriz $A$, a função `matriz_A` calcula, para cada $ i \\in [0, n-1]$, $Q_3$ e $Q_4$, para os intervalos $[x_{i-1}, x_i]$, e as mesmas expressões para $[x_{i}, x_{i+1}]$, denotados por $Q_5$ e $Q_6$, tal que:\n",
        "\n",
        "$a_{ii} = Q_3 + Q_4 + Q_5 + Q_6$\n",
        "\n",
        "Armazenamos esses valores de $a_{ii}$ na lista $A[0]$, ou seja, na primeira coluna da matriz $A$, de banda, segundo o padrão de armazenamento estabelecido no EP2.\n",
        "\n",
        "Agora, vamos calculae os coeficientes $a_{i(i+1)}\n",
        "\n",
        "$a_{i(i+1)} = \\int_{x_i}^{x_{i+1}} p(x)g_{i+1}'(x)dx + \\int_{x_i}^{x_{i+1}} q(x)g_{i+1}(x)dx$\n",
        "\n",
        "Chamaremos:\n",
        "\n",
        "$$Q_7 = \\int_{x_i}^{x_{i+1}} p(x)g'i(x)g{i+1}'dx$$\n",
        "\n",
        "$$Q_8 = \\int_{x_i}^{x_{i+1}} q(x)g(x)g_{i+1}(x)dx$$\n",
        "\n",
        "Nesse caso, temos que a base $g_i$ é:\n",
        "\n",
        "$$g_i(x) = \\cfrac{b-x}{h}$$\n",
        "$$g'_i(x) = \\cfrac{-1}{h} $$\n",
        "\n",
        "Com isso, fazemos as substituições e chegamos em:\n",
        "\n",
        "$$\\boxed{Q_5 = \\cfrac{1}{h} p\\left(\\cfrac{a+b}{2}\\right)}$$\n",
        "$$\\boxed{Q_6 = \\cfrac{1}{2}q\\left( \\cfrac{a+b}{2}\\right)}$$\n",
        "\n",
        "De forma análoga ao feito anteriormente, o código usa essas fórmulas para obter os valores dos coeficientes da segunda diagonal principal e os armazena na segunda linha, $A[1]$, da matriz de banda."
      ]
    },
    {
      "cell_type": "code",
      "execution_count": null,
      "metadata": {
        "id": "O8N2ZTBgVnCn"
      },
      "outputs": [],
      "source": [
        "def matrix_A():\n",
        "\n",
        "    n = N\n",
        "    h = H\n",
        "    x = X\n",
        "\n",
        "    A = [ [],[] ]\n",
        "\n",
        "    # Primeira Diagonal Principal\n",
        "    for i in range(1,n):\n",
        "\n",
        "        Q3 = p( (x[i]+x[i-1])/2 ) / h\n",
        "        Q4 = h/4 * q( (x[i]+x[i-1])/2 )\n",
        "\n",
        "        Q5 = p( (x[i]+x[i+1])/2 ) / h\n",
        "        Q6 = h/4 * q( (x[i]+x[i+1])/2 )\n",
        "\n",
        "        A[0].append( Q3+Q4+Q5+Q6 )\n",
        "\n",
        "    # Segunda Diagonal Principal\n",
        "    for i in range(n):\n",
        "\n",
        "        Q7 = p( (x[i]+x[i+1])/2 ) / h\n",
        "        Q8 = q( (x[i]+x[i+1])/2 ) / 2\n",
        "\n",
        "        A[1].append( Q7+Q8 )\n",
        "\n",
        "    return A"
      ]
    },
    {
      "cell_type": "markdown",
      "metadata": {
        "id": "wRPBXCa5VnCn"
      },
      "source": [
        "### 1.4 Funções f(x), p(x) e q(x):\n",
        "O enunciado requer que $p(x)$ seja contínua, positiva e tenha derivada contínuanua, e as funções $f(x)$ e $q(x)$ sejam contínuas e com $q(x) \\geq 0$. Essas funções são dadas nos exemplos, definimos no programa como:\n",
        "\n"
      ]
    },
    {
      "cell_type": "code",
      "execution_count": null,
      "metadata": {
        "id": "YZuDwyxEVnCo"
      },
      "outputs": [],
      "source": [
        "def f(x):\n",
        "    return\n",
        "\n",
        "def p(x):\n",
        "    return\n",
        "\n",
        "def q(x):\n",
        "    return"
      ]
    },
    {
      "cell_type": "markdown",
      "metadata": {
        "id": "-8Ig3TRHVnCo"
      },
      "source": [
        "### 1.5 Função `v_barra`\n",
        "A função `v_barra`, dados $c_1$ e $c_2$, define $\\bar{v}$ como:\n",
        "\n",
        "\n",
        "$\\bar{v}$ = $\\frac{x_{i+1}-x}{H} \\cdot c_1$ +  $\\frac{x-x_i}{H} \\cdot c_2$\n",
        "\n",
        "Conforme a aplicação feita na `main`, $c_1 = c_i$ e $c_2 = c_{i+1}$, elementos do vetor c, solução do sistema linear $Ac = D$, situados, respectivamente, na iésima e na iésima+1 posição."
      ]
    },
    {
      "cell_type": "code",
      "execution_count": null,
      "metadata": {
        "id": "tFW86_h5VnCo"
      },
      "outputs": [],
      "source": [
        "def v_barra(x,i,c1,c2):\n",
        "    return (X[i+1]-x)/H*c1 + (x-X[i])/H*c2"
      ]
    },
    {
      "cell_type": "markdown",
      "metadata": {
        "id": "jTLbxh5EVnCo"
      },
      "source": [
        "### 1.6 Função `erro`\n",
        "\n",
        "Para estimar o erro da aproximação, utilizamos a formulação do enunciado, que determina que o erro é dado pelo valor máximo da diferença entre $u(x_i)$ e $\\bar v(x_i)$.\n",
        "\n",
        "Assim, para cada $x_i$, armazenamos um erro temporário, dado por $|u(x_i) - \\bar v(x_i)|$, num vetor $temp$.\n",
        "\n",
        "Para achar o valor máximo, determinamos, inicialmente, um escalar $temp = 0$ e o substitituimos por $erro$ (elemento do vetor $temp$) sempre que $erro>temp$, o que nos permite encontrar o maior valor do vetor.\n",
        "\n",
        "A função retorna, então, o valor $temp$, ou seja, o valor máximo da diferença $|u(x_i) - \\bar v(x_i)|$."
      ]
    },
    {
      "cell_type": "code",
      "execution_count": null,
      "metadata": {
        "id": "5UTPaXAfVnCo"
      },
      "outputs": [],
      "source": [
        "def erro(u,v):\n",
        "    x = X\n",
        "\n",
        "    temp = []\n",
        "\n",
        "    for xi in x:\n",
        "        temp.append(abs(u(xi)-v(xi)))\n",
        "\n",
        "    temp = 0\n",
        "    for erro in temp:\n",
        "        if erro>temp:\n",
        "            temp = erro\n",
        "\n",
        "    return temp"
      ]
    },
    {
      "cell_type": "markdown",
      "source": [
        "# Exemplo 1\n",
        "\n",
        "Dada $-u''(x) = 1$, deduzimos as funções $p(x)$ e $q(x)$ a partir da fórmula geral de $f(x)$. Sabemos que:\n",
        "\n",
        "$$f(x) = -p'(x)u'(x) - p(x)u''(x) + q(x)u(x)$$\n",
        "\n",
        "Portanto,\n",
        "\n",
        "$$p(x) = 1$$\n",
        "$$q(x) = 0 $$\n",
        "\n",
        "Este problema, no intervalo $[0,1]$ com as condições de contorno $u(0) = u(1) = 0$, tem solução exata $u(x) = 0.5x(1-x)$. Plotando o gráfico, temos:"
      ],
      "metadata": {
        "id": "pW3aWbzyY_CY"
      }
    },
    {
      "cell_type": "markdown",
      "source": [
        "\\begin{figure}\n",
        "  \\includegraphics[width=11cm]{Captura de tela 2023-12-26 110550.png]}\n",
        "\\end{figure}"
      ],
      "metadata": {
        "id": "xVl2JBdNc1e5"
      }
    },
    {
      "cell_type": "markdown",
      "source": [
        "Aplicando o algoritmo descrito acima para as funções dadas e valores de $n=50, 100$ e $200$."
      ],
      "metadata": {
        "id": "MQ-qn8ZUk1j3"
      }
    },
    {
      "cell_type": "code",
      "source": [],
      "metadata": {
        "id": "wFrNSYeWk_fR"
      },
      "execution_count": null,
      "outputs": []
    }
  ],
  "metadata": {
    "kernelspec": {
      "display_name": "Python 3.11.5 64-bit",
      "language": "python",
      "name": "python3"
    },
    "language_info": {
      "codemirror_mode": {
        "name": "ipython",
        "version": 3
      },
      "file_extension": ".py",
      "mimetype": "text/x-python",
      "name": "python",
      "nbconvert_exporter": "python",
      "pygments_lexer": "ipython3",
      "version": "3.11.5"
    },
    "orig_nbformat": 4,
    "vscode": {
      "interpreter": {
        "hash": "aee8b7b246df8f9039afb4144a1f6fd8d2ca17a180786b69acc140d282b71a49"
      }
    },
    "colab": {
      "provenance": []
    }
  },
  "nbformat": 4,
  "nbformat_minor": 0
}