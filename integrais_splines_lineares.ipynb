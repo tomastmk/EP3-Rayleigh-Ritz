{
 "cells": [
  {
   "cell_type": "markdown",
   "metadata": {},
   "source": [
    "## Quadratura de Gauss em intervalos arbitrários\n",
    "\n",
    "Uma integral $\\int_a^b f(x)dx$ sobre um intervalo arbitrário [a,b] pode ser transformada em uma integral sobre [-1,1] ao aplicar uma mudança de variável:\n",
    "\n",
    "$$t = \\cfrac{2x - a - b}{b - a} \\iff x = \\cfrac{1}{2} [(b-a)t + (a+b)]$$\n",
    "\n",
    "Note que $dx = \\cfrac{b-a}{2} dt$, com isso, a integral se torna:\n",
    "\n",
    "$$\\int_a^b f(x) dx = \\int_{-1}^{1} f\\left(  \\cfrac{(b-a)t + (b+a)}{2}\\right) \\cfrac{(b-a)}{2}dt$$"
   ]
  },
  {
   "cell_type": "markdown",
   "metadata": {},
   "source": [
    "## Splines Lineares\n",
    "\n",
    "Precisamos resolver o sistema normal $Ac = d$. Para calcular os coeficientes $a_{ij}$ da matriz $A$ e $d_i$ do vetor $d$, vamos utilizar as seguintes integrais:\n",
    "\n",
    "$$d_i = \\int_{x_{i-1}}^{x_i} f(x)g_i(x) dx + \\int_{x_i}^{x_{i+1}} f(x)g_i(x) dx$$ \n",
    "\n",
    "Chamaremos a primeira de $Q_1$ e a segunda de $Q_2$, de tal forma que:\n",
    "\n",
    "$$d_i = Q_1 + Q_2$$\n",
    "\n",
    "Para resolver essas integrais, devemos utilizar a Fórmula de Gauss com 1 ponto (ponto médio), que nos diz que:\n",
    "\n",
    "$$\\int_{-1}^{1} f(x) dx \\approx 2 \\cdot f(0)$$\n",
    "\n",
    "Vamos calcular $Q_1$:\n",
    "\n",
    "$$Q_1 = \\int_{x_{i-1}}^{x_i} f(x)g_i(x) dx = \\int_{x_{i-1}}^{x_i} f(x) \\cfrac{x-x_{i-1}}{h} dx = \\cfrac{1}{h}\\int_{x_{i-1}}^{x_i} f(x) (x-x_{i-1}) dx$$\n",
    "\n",
    "Aplicando a mudança de variável:\n",
    "\n",
    "$$Q_1 = \\cfrac{1}{h}\\int_{-1}^{1} f\\left(\\cfrac{(x_i - x_{i-1})t + (x_i + x_{i-1})}{2}\\right) \\left(\\cfrac{(x_i - x_{i-1})t + (x_i + x_{i-1})}{2} -x_{i-1}\\right) \\cfrac{(x_i - x_{i-1})}{2}dt$$\n",
    "$$ = \\cfrac{(x_i - x_{i-1})}{2h}\\int_{-1}^{1} f\\left(\\cfrac{(x_i - x_{i-1})t + (x_i + x_{i-1})}{2}\\right) \\left(\\cfrac{(x_i - x_{i-1})t + x_i -x_{i-1}}{2}\\right)dt$$\n",
    "\n",
    "Seja $\\rho(t) = f\\left(\\cfrac{(x_i - x_{i-1})t + (x_i + x_{i-1})}{2}\\right) \\left(\\cfrac{(x_i - x_{i-1})t + x_i -x_{i-1}}{2}\\right)$, assim temos:\n",
    "\n",
    "$$= \\cfrac{(x_i - x_{i-1})}{2h}\\int_{-1}^{1} \\rho(t) dt \\approx \\cfrac{(x_i - x_{i-1})}{2h} \\cdot 2\\rho(0) = \\cfrac{(x_i - x_{i-1})}{h} f\\left(\\cfrac{(x_i + x_{i-1})}{2}\\right) \\left(\\cfrac{(x_i -x_{i-1})}{2}\\right)$$\n",
    "\n",
    "Finalmente, temos:\n",
    "\n",
    "$$\\boxed{Q_1 = \\cfrac{(x_i - x_{i-1})^2}{2h} \\cdot f\\left( \\cfrac{x_i + x_{i-1}}{2}\\right)} \\iff \\boxed{Q_1 = \\cfrac{h}{2} \\cdot f\\left( \\cfrac{x_i + x_{i-1}}{2}\\right)}$$\n",
    "\n",
    "A integral $Q_2$ é calculada da mesma forma:\n",
    "\n",
    "$$\\boxed{Q_2 = \\cfrac{(x_{i+1} - x_{i})^2}{2h} \\cdot f\\left( \\cfrac{x_{i+1} + x_{i}}{2}\\right)} \\iff \\boxed{Q_2 = \\cfrac{h}{2} \\cdot f\\left( \\cfrac{x_{i+1} + x_{i}}{2}\\right)}$$"
   ]
  },
  {
   "cell_type": "code",
   "execution_count": 1,
   "metadata": {},
   "outputs": [
    {
     "ename": "SyntaxError",
     "evalue": "invalid syntax (3789003019.py, line 5)",
     "output_type": "error",
     "traceback": [
      "\u001b[1;36m  Cell \u001b[1;32mIn[1], line 5\u001b[1;36m\u001b[0m\n\u001b[1;33m    xi =\u001b[0m\n\u001b[1;37m         ^\u001b[0m\n\u001b[1;31mSyntaxError\u001b[0m\u001b[1;31m:\u001b[0m invalid syntax\n"
     ]
    }
   ],
   "source": [
    "def di(n,a,b):\n",
    "    '''Essa função calcula o coeficiente di do vetor d'''\n",
    "\n",
    "    for i in range(n+1):\n",
    "        xi = \n",
    "\n",
    "\n",
    "def main():\n",
    "\n",
    "    a,b = 0, 1 # Intervalo\n",
    "    f = -1     # função f(x)\n",
    "    p = 1      # função p(x)\n",
    "    q = 0      # função q(x) \n",
    "    n = 50     # partições\n",
    "\n",
    "    xi = \n",
    "main()"
   ]
  },
  {
   "cell_type": "markdown",
   "metadata": {},
   "source": [
    "## Cálculo dos coeficientes da matriz A\n",
    "\n",
    "Para encontrar os coeficientes da matriz A, só temos que calcular as seguintes integrais:\n",
    "\n",
    "$$ a_{ii} = \\int_{x_{i-1}}^{x_i} [p(x)(g_i'(x))^2 + q(x)(g_i(x))^2 ] dx + \\int_{x_i}^{x_{i+1}} [p(x)(g_i'(x))^2 dx + q(x)(g_i(x))^2 ]dx $$\n",
    "\n",
    "Note que a segunda é igual à primeira (só possui intervalo de integração diferente), e ainda, a primeira integral é a integral da soma que pode ser a soma das integrais. Portanto vamos calcular duas integrais $Q_3$ e $Q_4$ em um intervalo arbitrário com $a$ e $b$ nos extremos:\n",
    "\n",
    "$$Q_3 = \\int_a^b p(x)(g_i'(x))^2dx = \\cfrac{1}{h^2} \\int_a^b p(x)dx $$\n",
    "\n",
    "Aplicando a substituição de variáveis:\n",
    "\n",
    "$$Q_3 =  \\cfrac{1}{h^2} \\int_{-1}^{1} p\\left( \\cfrac{(b-a)t + (b+a)}{2}\\right) \\cfrac{(b-a)}{2}dt =   \\cfrac{(b-a)}{2h^2} \\int_{-1}^{1} \\rho(t)dt$$\n",
    "\n",
    "Fazendo a aproximação:\n",
    "\n",
    "$$Q_3\\approx \\cfrac{b-a}{2h^2}\\cdot 2\\rho(0) = \\cfrac{b-a}{h^2}\\cdot p\\left( \\cfrac{b+a}{2}\\right)$$\n",
    "\n",
    "Finalmente:\n",
    "\n",
    "$$\\boxed{Q_3 = \\cfrac{1}{h}\\cdot p\\left( \\cfrac{b+a}{2}\\right)}$$\n",
    "\n",
    "Agora, vamos calcular $Q_4$:\n",
    "\n",
    "$$Q_4 = \\int_a^b q(x)(g_i(x))^2dx = \\cfrac{1}{h^2}\\int_a^b q(x)(x-a)^2dx$$\n",
    "$$ = \\cfrac{1}{h^2}\\int_{-1}^{1} q\\left( \\cfrac{(b-a)t + (b+a)}{2} \\right) \\cfrac{((b-a)t + b - a)^2}{4} \\cdot \\cfrac{(b-a)}{2}dt$$\n",
    "$$ = \\cfrac{(b-a)}{8h^2}\\int_{-1}^{1} q\\left( \\cfrac{(b-a)t + (b+a)}{2} \\right) ((b-a)t + b - a)^2 dt$$\n",
    "$$ = \\cfrac{(b-a)}{8h^2}\\int_{-1}^{1} \\eta(t)dt$$\n",
    "\n",
    "Fazendo a aproximação:\n",
    "\n",
    "$$\\approx  \\cfrac{(b-a)}{8h^2} \\cdot 2 \\eta(0) = \\cfrac{(b-a)}{4h^2} \\cdot q\\left( \\cfrac{b+a}{2}\\right) (b-a)^2 = \\cfrac{(b-a)^3}{4h^2} \\cdot q\\left( \\cfrac{b+a}{2}\\right)  $$\n",
    "\n",
    "Então, chegamos em:\n",
    "\n",
    "$$\\boxed{Q_4 = \\cfrac{h}{4} \\cdot q\\left( \\cfrac{b+a}{2}\\right)}$$"
   ]
  },
  {
   "cell_type": "markdown",
   "metadata": {},
   "source": [
    "Agora vamos calcular o coeficiente $a_{i(i+1)}$"
   ]
  },
  {
   "cell_type": "markdown",
   "metadata": {},
   "source": [
    "$$a_{i(i+1)} = \\int_{x_i}^{x_{i+1}} p(x)g_i'(x)g_{i+1}'(x)dx + \\int_{x_i}^{x_{i+1}} q(x)g_i(x)g_{i+1}(x)dx$$"
   ]
  },
  {
   "cell_type": "markdown",
   "metadata": {},
   "source": []
  }
 ],
 "metadata": {
  "kernelspec": {
   "display_name": "Python 3",
   "language": "python",
   "name": "python3"
  },
  "language_info": {
   "codemirror_mode": {
    "name": "ipython",
    "version": 3
   },
   "file_extension": ".py",
   "mimetype": "text/x-python",
   "name": "python",
   "nbconvert_exporter": "python",
   "pygments_lexer": "ipython3",
   "version": "3.11.0"
  }
 },
 "nbformat": 4,
 "nbformat_minor": 2
}
